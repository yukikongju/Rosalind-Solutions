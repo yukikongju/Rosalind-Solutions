{
 "cells": [
  {
   "cell_type": "markdown",
   "metadata": {},
   "source": [
    "### Introduction to Sequencing"
   ]
  },
  {
   "cell_type": "code",
   "execution_count": 1,
   "metadata": {},
   "outputs": [],
   "source": [
    "from Bio.Seq import Seq\n",
    "seq = Seq('ATGATTGGCTTTGTCTGACAAAACCTACGAGTTATCTCTGGCTGCCCCGGTCTTAACATCCGACTGTTCTTGCCTCAAACAGGCTAGTGGGCTGTCGGTCCAAGTATGGCAGAATAAGATGCCCTCTGACAAAAGCTTTTCATGCGTTATCTCTTTGACGATTTGATCCCTTGCCCGACCAACTGGGCCGCGAGCACCTTAGGATAGATACCTAGAGGGGTGCCAGTGCCGCGTCCTTAAAGGCAGACTGGGACCCAGAAGGTGAAAGGTTGTAGTCCCAACTGGTGTCAAGTCCAGAATCCTCGAATCGTATAGGAATGCGTCATTATAGCCAGTTTGAGCTCCGGATACCATGCCTCTGCGAAATACACCGTTGTGTGGCTCTGGAAGTGGCATTGGAGACCGAAACCACATCCGGAGCTAATTATGCGATGGAGAACCAGGGTTCCACGGAAATTTGTCTATACTTCCTATGGTGAAAAAGATTACGTCGTATTGCGCTCGCCAAAGTAACGTGATGTTTAAGGCGGTCGAGATGGGAGATCTAGTGGATGACGAGAGTAGGTGTGGTTTTTCACCTATCGATTTTGGCAATGTCTCTAACACGTTCAGAGTGCCTATTGTTAGCCGCTATGTATCCGTCCTACGAAAGGGAGCCTCTATTGAAGTAGTAGGTCTCATCATGTTCGGTGGGGGCCCGGATCCTCTGAAGATTTGACCTGAGCTTGACCGCCAAAAGGTAGTCGAATTGCCAGCTTCGTCCCACACAGAACGGAGCAATTTCTCGCTACGCTACTCCTATATCTAGTCTGAGCCCTCGAGCTCCCACAGTTTCCGGGTCCGGCTGGTTTGTAGTACCTGTGCGAGCCGAACTCTTTGGTTCCCTTTTACGAGACCAGACAATCCA')"
   ]
  },
  {
   "cell_type": "markdown",
   "metadata": {},
   "source": [
    "#### Count Nucleotides"
   ]
  },
  {
   "cell_type": "code",
   "execution_count": 2,
   "metadata": {},
   "outputs": [
    {
     "name": "stdout",
     "output_type": "stream",
     "text": [
      "213 221 233 240\n"
     ]
    }
   ],
   "source": [
    "num_A = seq.count('A')\n",
    "num_C = seq.count('C')\n",
    "num_G = seq.count('G')\n",
    "num_T = seq.count('T')\n",
    "print(f'{num_A} {num_C} {num_G} {num_T}')"
   ]
  },
  {
   "cell_type": "markdown",
   "metadata": {},
   "source": [
    "#### Get Translation"
   ]
  },
  {
   "cell_type": "code",
   "execution_count": null,
   "metadata": {},
   "outputs": [],
   "source": []
  },
  {
   "cell_type": "markdown",
   "metadata": {},
   "source": [
    "#### Get Reverse Complement"
   ]
  },
  {
   "cell_type": "code",
   "execution_count": 6,
   "metadata": {},
   "outputs": [
    {
     "data": {
      "text/plain": [
       "Seq('TGGATTGTCTGGTCTCGTAAAAGGGAACCAAAGAGTTCGGCTCGCACAGGTACT...CAT')"
      ]
     },
     "execution_count": 6,
     "metadata": {},
     "output_type": "execute_result"
    }
   ],
   "source": [
    "reverse_complement = seq.reverse_complement()\n",
    "reverse_complement"
   ]
  },
  {
   "cell_type": "code",
   "execution_count": null,
   "metadata": {},
   "outputs": [],
   "source": []
  }
 ],
 "metadata": {
  "kernelspec": {
   "display_name": "Python 3",
   "language": "python",
   "name": "python3"
  },
  "language_info": {
   "codemirror_mode": {
    "name": "ipython",
    "version": 3
   },
   "file_extension": ".py",
   "mimetype": "text/x-python",
   "name": "python",
   "nbconvert_exporter": "python",
   "pygments_lexer": "ipython3",
   "version": "3.7.7"
  }
 },
 "nbformat": 4,
 "nbformat_minor": 4
}
