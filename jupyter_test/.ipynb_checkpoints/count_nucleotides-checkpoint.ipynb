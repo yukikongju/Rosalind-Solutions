{
 "cells": [
  {
   "cell_type": "markdown",
   "metadata": {},
   "source": [
    "#### No modules used"
   ]
  },
  {
   "cell_type": "code",
   "execution_count": 2,
   "metadata": {},
   "outputs": [],
   "source": [
    "dna = 'TCTTTCGCCAAAGCCATTGTTGACCGCCAAAAGGTGTTTCGCAAACATCACACTGGTGGTTTTTCTCGACACTCACGTCAGCAGCGCCAATATCCGCATGTCTGGCGGTCATCGACACTACCACGGGACAGCAGTTAAGCTGAGTTCACACAACGTTTAGTATGACTTGCCACCATCTTACCAATGTGTACCATCTAGGGAAGAGGTCCGTTTGCCTCCTATGCCCGCAGGGACCAAATCAGTCATTGGTAAATAGCAATTCTACTCGGTAACAGGCTTCGGAGGGTTCCTACTACTACTTGCCTTTACTCCTGCAATGACGCACGCAACTTCATCAAAAGAAATAACAATAAGATTTGTGTCGATTGGGCGATGCTCGTGTAGTCCGCGTAATTGCTTGATCGCACGGCTACCTGCAAAGTCTAACACGATCAACGTATCCCGTGTCCTAGGTTGTCCGAGTTGCCTTTATTCTGGTCCCCTAAGCGCCCCGGTCGAGATTTACCGAGTTTAGAAGAATGTGCGGGTCCAATGAGTTGCCCTACCATAAGATTGGACCCAAGGGAACTTACGCCGATTATTGTCTAGAGGGTCACGTGCTTACCGAATCTTGTACGGCTGAGATTAAACCACATACAGGCCTGTACCCTCCAAGTTCGAGCATCCGCTACATCTCAGTGAGATGAATAGACCCGGGTCCAAGCCCGTGCATTGTACCATGAACGGGGGGTGCATTTATGTTGTCTAATTCGCGTTGGCCACCAGGCGCTTGGACACACAGCGGACCACAACTTTGTTATGTTTAGTTAGCGTTCGTCGTATCAGACCGGGCGGTAAAGATACGCTGGGTAGTACGCAATCTGAATTTAGGCTCGGCCCATC'"
   ]
  },
  {
   "cell_type": "code",
   "execution_count": 3,
   "metadata": {},
   "outputs": [
    {
     "data": {
      "text/plain": [
       "{'A': 215, 'C': 230, 'G': 209, 'T': 228}"
      ]
     },
     "execution_count": 3,
     "metadata": {},
     "output_type": "execute_result"
    }
   ],
   "source": [
    "counts = {'A': 0, 'C': 0, 'G': 0, 'T': 0}\n",
    "for base in dna:\n",
    "    counts[base] += 1\n",
    "counts"
   ]
  },
  {
   "cell_type": "markdown",
   "metadata": {},
   "source": [
    "#### With BioPython"
   ]
  },
  {
   "cell_type": "code",
   "execution_count": null,
   "metadata": {},
   "outputs": [],
   "source": [
    "from Bio.Seq import Seq\n",
    "seq = Seq('AGTACACTGGT')\n",
    "print(f'{seq.count('A')} {seq.count('')}')"
   ]
  }
 ],
 "metadata": {
  "kernelspec": {
   "display_name": "Python 3",
   "language": "python",
   "name": "python3"
  },
  "language_info": {
   "codemirror_mode": {
    "name": "ipython",
    "version": 3
   },
   "file_extension": ".py",
   "mimetype": "text/x-python",
   "name": "python",
   "nbconvert_exporter": "python",
   "pygments_lexer": "ipython3",
   "version": "3.7.7"
  }
 },
 "nbformat": 4,
 "nbformat_minor": 4
}
